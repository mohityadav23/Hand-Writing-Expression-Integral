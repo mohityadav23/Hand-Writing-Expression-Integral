{
 "cells": [
  {
   "cell_type": "code",
   "execution_count": 3,
   "metadata": {},
   "outputs": [
    {
     "ename": "ImportError",
     "evalue": "dlopen(/anaconda2/lib/python2.7/site-packages/cv2.so, 2): Library not loaded: @rpath/libfreetype.6.dylib\n  Referenced from: /anaconda2/lib/libopencv_freetype.3.4.dylib\n  Reason: Incompatible library version: libopencv_freetype.3.4.dylib requires version 22.0.0 or later, but libfreetype.6.dylib provides version 21.0.0",
     "output_type": "error",
     "traceback": [
      "\u001b[0;31m---------------------------------------------------------------------------\u001b[0m",
      "\u001b[0;31mImportError\u001b[0m                               Traceback (most recent call last)",
      "\u001b[0;32m<ipython-input-3-c514bd9d5747>\u001b[0m in \u001b[0;36m<module>\u001b[0;34m()\u001b[0m\n\u001b[1;32m      1\u001b[0m \u001b[0;32mimport\u001b[0m \u001b[0mnumpy\u001b[0m \u001b[0;32mas\u001b[0m \u001b[0mnp\u001b[0m\u001b[0;34m\u001b[0m\u001b[0m\n\u001b[0;32m----> 2\u001b[0;31m \u001b[0;32mimport\u001b[0m \u001b[0mcv2\u001b[0m\u001b[0;34m\u001b[0m\u001b[0m\n\u001b[0m\u001b[1;32m      3\u001b[0m \u001b[0;32mimport\u001b[0m \u001b[0mpandas\u001b[0m \u001b[0;32mas\u001b[0m \u001b[0mpd\u001b[0m\u001b[0;34m\u001b[0m\u001b[0m\n\u001b[1;32m      4\u001b[0m \u001b[0;32mimport\u001b[0m \u001b[0mos\u001b[0m\u001b[0;34m\u001b[0m\u001b[0m\n\u001b[1;32m      5\u001b[0m \u001b[0;32mimport\u001b[0m \u001b[0mcsv\u001b[0m\u001b[0;34m\u001b[0m\u001b[0m\n",
      "\u001b[0;31mImportError\u001b[0m: dlopen(/anaconda2/lib/python2.7/site-packages/cv2.so, 2): Library not loaded: @rpath/libfreetype.6.dylib\n  Referenced from: /anaconda2/lib/libopencv_freetype.3.4.dylib\n  Reason: Incompatible library version: libopencv_freetype.3.4.dylib requires version 22.0.0 or later, but libfreetype.6.dylib provides version 21.0.0"
     ]
    }
   ],
   "source": [
    "import numpy as np\n",
    "import cv2\n",
    "import pandas as pd\n",
    "import os\n",
    "import csv\n",
    "from random import shuffle\n",
    "from matplotlib import pyplot as plt\n",
    "%matplotlib inline"
   ]
  },
  {
   "cell_type": "code",
   "execution_count": 6,
   "metadata": {
    "scrolled": true
   },
   "outputs": [
    {
     "name": "stdout",
     "output_type": "stream",
     "text": [
      "27 Symbols\n",
      "( 14294\n",
      ") 14355\n",
      "+ 25112\n",
      "- 33997\n",
      "0 6914\n",
      "1 26520\n",
      "2 26141\n",
      "3 10909\n",
      "4 7396\n",
      "5 3545\n",
      "6 3118\n",
      "7 2909\n",
      "8 3068\n",
      "9 3737\n",
      "a 12367\n",
      "c 5802\n",
      "e 3003\n",
      "g 1692\n",
      "h 1464\n",
      "i 5140\n",
      "l 1017\n",
      "n 10862\n",
      "o 449\n",
      "s 1413\n",
      "sum 2689\n",
      "t 3274\n",
      "x 26594\n"
     ]
    }
   ],
   "source": [
    "# symbols = ['+', 'c', '8', 'l', 't', 'q', '0', 'p', 'times', 'x', 'm', 'z',  '-', 'g', '5', 'k', 'pi', 'y', '4', 'f', ')', '3', 'j', 'w', '6', 'a', 'h', 'b', 'r', 'i', 'd', 'n', '9', 'v', '7', 'o', '2', 's', '(', 'forward_slash', 'e', 'u', '1']\n",
    "\n",
    "symbols = ['+', 'c', '8', 'l', 't', '0', 'x', '-', 'g', '5', 'h', '4', ')', '3', '6', 'a', 'i', 'n', '9', '7', '2', 's', '(', 'sum', 'e', '1', 'o']\n",
    "symbols.sort()\n",
    "print len(symbols), 'Symbols'\n",
    "for sym in symbols:\n",
    "    files = os.listdir('./extracted_images/' + sym)\n",
    "    print sym, len(files)"
   ]
  },
  {
   "cell_type": "code",
   "execution_count": 7,
   "metadata": {},
   "outputs": [],
   "source": [
    "dataset_labels = {}\n",
    "cols = ['symbol']\n",
    "dataset_labels['symbol'] = []\n",
    "for ix in range(1024):\n",
    "    dataset_labels['pixel_'+str(ix)] = []\n",
    "    cols.append('pixel_'+str(ix))\n",
    "\n",
    "initial = pd.DataFrame(dataset_labels)\n",
    "initial.to_csv('./symbols.csv', header=True, columns = cols, sep=',', index=False)"
   ]
  },
  {
   "cell_type": "code",
   "execution_count": 8,
   "metadata": {
    "scrolled": true
   },
   "outputs": [
    {
     "name": "stdout",
     "output_type": "stream",
     "text": [
      "( 2500\n",
      ") 2500\n",
      "+ 2500\n",
      "- 2500\n",
      "0 2500\n",
      "1 2500\n",
      "2 2500\n",
      "3 2500\n",
      "4 2500\n",
      "5 2500\n",
      "6 2500\n",
      "7 2500\n",
      "8 2500\n",
      "9 2500\n",
      "a 2500\n",
      "c 2500\n",
      "e 2500\n",
      "g 1692\n",
      "h 1464\n",
      "i 2500\n",
      "l 1017\n",
      "n 2500\n",
      "o 449\n",
      "s 1413\n",
      "sum 2500\n",
      "t 2500\n",
      "x 2500\n"
     ]
    }
   ],
   "source": [
    "with open('./symbols.csv', 'a') as csvfile:\n",
    "    datawriter = csv.writer(csvfile)\n",
    "    for sym in symbols:\n",
    "        files = os.listdir('./extracted_images/' + sym)\n",
    "        shuffle(files)\n",
    "        files = files[:2500]\n",
    "        print sym, len(files)\n",
    "        for f in files:\n",
    "            image = cv2.imread('./extracted_images/'+sym+'/'+f)\n",
    "            image = cv2.cvtColor(image, cv2.COLOR_BGR2GRAY)\n",
    "            \n",
    "            _, image = cv2.threshold(image, 50, 255, cv2.THRESH_BINARY_INV)\n",
    "            kernel = np.array([[1, 1], [1, 1]], dtype='uint8')\n",
    "            image = cv2.dilate(image, kernel, iterations = 1)\n",
    "            \n",
    "            image = cv2.resize(image, (32,32), interpolation = cv2.INTER_CUBIC)\n",
    "            _, image = cv2.threshold(image, 50, 255, cv2.THRESH_BINARY_INV)\n",
    "            \n",
    "            image = list(image.reshape((1024)))\n",
    "            datawriter.writerow([str(sym)] + image)"
   ]
  },
  {
   "cell_type": "code",
   "execution_count": 10,
   "metadata": {},
   "outputs": [
    {
     "name": "stderr",
     "output_type": "stream",
     "text": [
      "/home/navjot/.local/lib/python2.7/site-packages/IPython/core/interactiveshell.py:2717: DtypeWarning: Columns (0) have mixed types. Specify dtype option on import or set low_memory=False.\n",
      "  interactivity=interactivity, compiler=compiler, result=result)\n"
     ]
    }
   ],
   "source": [
    "df = pd.read_csv('./symbols.csv')"
   ]
  },
  {
   "cell_type": "code",
   "execution_count": null,
   "metadata": {
    "collapsed": true
   },
   "outputs": [],
   "source": []
  }
 ],
 "metadata": {
  "kernelspec": {
   "display_name": "Python 2",
   "language": "python",
   "name": "python2"
  }
 },
 "nbformat": 4,
 "nbformat_minor": 2
}
